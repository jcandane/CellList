{
  "nbformat": 4,
  "nbformat_minor": 0,
  "metadata": {
    "colab": {
      "name": "CellListXX.ipynb",
      "provenance": [],
      "collapsed_sections": [],
      "include_colab_link": true
    },
    "kernelspec": {
      "name": "python3",
      "display_name": "Python 3"
    },
    "language_info": {
      "name": "python"
    }
  },
  "cells": [
    {
      "cell_type": "markdown",
      "metadata": {
        "id": "view-in-github",
        "colab_type": "text"
      },
      "source": [
        "<a href=\"https://colab.research.google.com/github/jcandane/CellList/blob/main/CellList.ipynb\" target=\"_parent\"><img src=\"https://colab.research.google.com/assets/colab-badge.svg\" alt=\"Open In Colab\"/></a>"
      ]
    },
    {
      "cell_type": "markdown",
      "source": [
        "# Given R_ix generate cell-list \n",
        "### cell-list (box-box neighbors and which atoms, i, belong with which box.)"
      ],
      "metadata": {
        "id": "U3ieeE0JfbFv"
      }
    },
    {
      "cell_type": "code",
      "execution_count": 81,
      "metadata": {
        "id": "0F3MCzWofYmu"
      },
      "outputs": [],
      "source": [
        "import numpy as np\n",
        "import matplotlib.pyplot as plt\n",
        "import time\n",
        "\n",
        "np.set_printoptions(precision=4, linewidth=200, threshold=2000, suppress=True)"
      ]
    },
    {
      "cell_type": "markdown",
      "source": [
        "#### Cell List Def."
      ],
      "metadata": {
        "id": "nwFT3NZOkhHg"
      }
    },
    {
      "cell_type": "code",
      "source": [
        "def Cell_List(R_ix, cutoff, boxboxcuttoff=1.5):\n",
        "\n",
        "    R_ix_int = ( R_ix/cutoff ).astype(int)\n",
        "    lims     = 1 + np.amax( R_ix_int, axis=0 ) - np.amin( R_ix_int, axis=0 )\n",
        "    boxes    = np.arange(0, np.prod(lims), 1, dtype=int).reshape((lims[0],lims[1],lims[2]))\n",
        "\n",
        "    box = boxes[R_ix_int[:,0], R_ix_int[:,1], R_ix_int[:,2]] ## get box for each atom\n",
        "    ind = np.argsort(box) ## find indices beloning to a box\n",
        "    sor = np.append([0], np.where( np.diff( box[ind] ) == 1 )[0] ) ### find where boxes end, i.e. box[ind] = np.sort( box )\n",
        "    sor = np.append(sor, box[-1] ) ## !!\n",
        "\n",
        "    x_  = np.arange(0, lims[0], 1, dtype=int)\n",
        "    y_  = np.arange(0, lims[1], 1, dtype=int)\n",
        "    z_  = np.arange(0, lims[2], 1, dtype=int)\n",
        "    xyz = np.array(np.meshgrid(x_, y_, z_))\n",
        "\n",
        "    R_Bx  = (xyz.swapaxes(0,3)).reshape((xyz.size//xyz.shape[0] , xyz.shape[0]), order=\"F\")\n",
        "    R_BCx = np.einsum(\"Bx, C -> BCx\", R_Bx, np.ones(len(R_Bx), dtype=int)) - np.einsum(\"Cx, B -> BCx\", R_Bx, np.ones(len(R_Bx), dtype=int))\n",
        "    Boxdistances = np.einsum(\"BCx -> BC\", R_BCx**2)**0.5\n",
        "    II, JJ = np.where( np.logical_and(np.triu( Boxdistances ) > 0, np.triu( Boxdistances ) < boxboxcuttoff) )\n",
        "    ## IK = IJ[ np.where(IJ[:,0] <= IJ[:,1])[0], : ]\n",
        "\n",
        "    return np.asarray([II, JJ]).T, ind, sor\n",
        "\n",
        "def BOXBOX(II, JJ, R_ix, AT_i, LJf_Ar, ind, sor):\n",
        "    \"\"\"\n",
        "    GIVEN:  II, JJ (box indices)\n",
        "            R_ix (entire position array)\n",
        "            AT_i (atom-type array)\n",
        "            f (tableulated force)\n",
        "\n",
        "    GET:\n",
        "            f_ix (force)\n",
        "            E (Energy)\n",
        "            g (Radial Distribution Function)\n",
        "    \"\"\"\n",
        "\n",
        "    ff_ix   = np.zeros(R_ix.shape)\n",
        "\n",
        "    boxI  = ind[ sor[II]:sor[II+1] ]\n",
        "    boxJ  = ind[ sor[JJ]:sor[JJ+1] ]\n",
        "    basis = ((R_ix[ boxI, None, : ] - R_ix[ None, boxJ, : ]).T).swapaxes(1,2)\n",
        "\n",
        "    distance  = np.linalg.norm(basis, axis=0)\n",
        "    basis    *= 1/distance\n",
        "    N, dx     = distance.astype(int), distance-distance.astype(int)\n",
        "\n",
        "    AT = np.array([ np.outer(AT_i[boxI], np.ones(len(boxJ), dtype=int)), np.outer(np.ones(len(boxI), dtype=int), AT_i[boxJ]) ])\n",
        "    AT = router[AT[0],AT[1]]\n",
        "\n",
        "    f_ij = LJf_Ar[ AT, N ]\n",
        "    ff_ix[boxI] = np.sum( f_ij[None,:,:] * basis , axis=2).T\n",
        "    ff_ix[boxJ] = np.sum( f_ij[None,:,:] * basis , axis=1).T\n",
        "\n",
        "    return ff_ix"
      ],
      "metadata": {
        "id": "7t8YeOv6kkvF"
      },
      "execution_count": 2,
      "outputs": []
    },
    {
      "cell_type": "markdown",
      "source": [
        "## Get the System: R_ix, cutoff"
      ],
      "metadata": {
        "id": "JfgmgJ83gBfn"
      }
    },
    {
      "cell_type": "code",
      "source": [
        "N_atoms = 200000\n",
        "cutoff  = 10\n",
        "\n",
        "size     = np.array([100., 100., 200.])\n",
        "R_ix     = size[None, :]*(np.random.random((N_atoms,3)) - 1/2) ## 100 is the size\n",
        "print(\"Number-Density = \" + str(N_atoms / size**3) ) ## number/vol = number-density, diamond = 0.1762 1/Å^3 see https://en.wikipedia.org/wiki/Number_density"
      ],
      "metadata": {
        "colab": {
          "base_uri": "https://localhost:8080/"
        },
        "id": "XIgsnCt6gDzV",
        "outputId": "d13aad7d-cf1b-4f5e-d6e8-e37ea3ffea68"
      },
      "execution_count": 31,
      "outputs": [
        {
          "output_type": "stream",
          "name": "stdout",
          "text": [
            "Number-Density = [0.2   0.2   0.025]\n"
          ]
        }
      ]
    },
    {
      "cell_type": "code",
      "source": [
        "R_ix_int = ( R_ix/cutoff ).astype(int)\n",
        "lims     = 1 + np.amax( R_ix_int, axis=0 ) - np.amin( R_ix_int, axis=0 )\n",
        "boxes    = np.arange(0, np.prod(lims), 1, dtype=int).reshape((lims[0],lims[1],lims[2]))"
      ],
      "metadata": {
        "id": "Nmzfga91BXPz"
      },
      "execution_count": 75,
      "outputs": []
    },
    {
      "cell_type": "code",
      "source": [
        "max  = np.asarray([ np.amax( R_ix_int[:,0] ), np.amax( R_ix_int[:,1] ), np.amax( R_ix_int[:,2] )])\n",
        "min  = np.asarray([ np.amin( R_ix_int[:,0] ), np.amin( R_ix_int[:,1] ), np.amin( R_ix_int[:,2] )])\n",
        "limz = 1 + max - min\n",
        "\n",
        "boxes    = np.arange(0, np.prod(lims), 1, dtype=int).reshape((limz[0],limz[1],limz[2]))"
      ],
      "metadata": {
        "id": "odB1p7H1CDnU"
      },
      "execution_count": 76,
      "outputs": []
    },
    {
      "cell_type": "code",
      "source": [
        "def givenbox_getatoms(IJ, cell_list_info):\n",
        "    indexes, sorted = cell_list_info\n",
        "    i = indexes[ sorted[IJ[0]]:sorted[IJ[0]+1] ]\n",
        "    j = indexes[ sorted[IJ[1]]:sorted[IJ[1]+1] ]\n",
        "    return i,j"
      ],
      "metadata": {
        "id": "kx6g4JNklOhB"
      },
      "execution_count": 77,
      "outputs": []
    },
    {
      "cell_type": "markdown",
      "source": [
        "### Lets Calculate the Cell List"
      ],
      "metadata": {
        "id": "arpGWM1flMJx"
      }
    },
    {
      "cell_type": "code",
      "source": [
        "IJ, indexes, sorted = Cell_List(R_ix, cutoff) ### IJ is NOT double counting, e.g. doesn't have 456, 34 only 34, 456\n",
        "cell_list_info = [indexes, sorted]\n",
        "\n",
        "I = 9\n",
        "J = 11\n",
        "boxI_i = indexes[ sorted[I]:sorted[I+1] ] ## atom indices belonging to box I\n",
        "boxJ_j = indexes[ sorted[J]:sorted[J+1] ] ## atom indices belonging to box J"
      ],
      "metadata": {
        "id": "Jj9klG9pgGet"
      },
      "execution_count": 78,
      "outputs": []
    },
    {
      "cell_type": "code",
      "source": [
        "dist = 0.\n",
        "for i in range(len(IJ)):\n",
        "    I, J  = IJ[i]\n",
        "    I_i   = indexes[ sorted[I]:sorted[I+1] ] ## atom indices belonging to box I\n",
        "    J_j   = indexes[ sorted[J]:sorted[J+1] ] ## atom indices belonging to box J\n",
        "\n",
        "    R_ijx = R_ix[ I_i, None, : ] - R_ix[ None, J_j, : ]\n",
        "    dist += np.sum( R_ijx ) + np.sum( -R_ijx.swapaxes(0,1) )\n",
        "\n",
        "    if len(I_i) == 0:\n",
        "      print(\"zero atoms in box \" + str(i))\n",
        "\n",
        "print(dist)"
      ],
      "metadata": {
        "colab": {
          "base_uri": "https://localhost:8080/"
        },
        "id": "X1DRRANVj0kR",
        "outputId": "32d74585-da69-49e2-8cfc-bf1e5cca3a44"
      },
      "execution_count": 80,
      "outputs": [
        {
          "output_type": "stream",
          "name": "stdout",
          "text": [
            "0.0\n"
          ]
        }
      ]
    },
    {
      "cell_type": "code",
      "source": [
        "!git clone https://github.com/jcandane/pyprototyp\n",
        "from pyprototyp.pyprototyp import pyprototyp\n",
        "pyprototyp(\"CellList\", packages=[], useful=[], defs=[Cell_List], classes=[])"
      ],
      "metadata": {
        "colab": {
          "base_uri": "https://localhost:8080/"
        },
        "id": "NKfFNXII5I5_",
        "outputId": "e658e429-5d96-455c-e943-bad85637be8f"
      },
      "execution_count": 84,
      "outputs": [
        {
          "output_type": "stream",
          "name": "stdout",
          "text": [
            "fatal: destination path 'pyprototyp' already exists and is not an empty directory.\n"
          ]
        }
      ]
    },
    {
      "cell_type": "code",
      "source": [
        ""
      ],
      "metadata": {
        "id": "2MlAGjmeMURq"
      },
      "execution_count": null,
      "outputs": []
    }
  ]
}