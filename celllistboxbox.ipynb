{
  "nbformat": 4,
  "nbformat_minor": 0,
  "metadata": {
    "colab": {
      "name": "celllistboxbox.ipynb",
      "provenance": [],
      "include_colab_link": true
    },
    "kernelspec": {
      "name": "python3",
      "display_name": "Python 3"
    },
    "language_info": {
      "name": "python"
    }
  },
  "cells": [
    {
      "cell_type": "markdown",
      "metadata": {
        "id": "view-in-github",
        "colab_type": "text"
      },
      "source": [
        "<a href=\"https://colab.research.google.com/github/jcandane/CellList/blob/main/celllistboxbox.ipynb\" target=\"_parent\"><img src=\"https://colab.research.google.com/assets/colab-badge.svg\" alt=\"Open In Colab\"/></a>"
      ]
    },
    {
      "cell_type": "code",
      "execution_count": 1,
      "metadata": {
        "colab": {
          "base_uri": "https://localhost:8080/"
        },
        "id": "vlY69AfH5lzh",
        "outputId": "415ceefd-05ad-44c5-8658-1909ab6ce22a"
      },
      "outputs": [
        {
          "output_type": "stream",
          "name": "stdout",
          "text": [
            "fatal: destination path 'CellList' already exists and is not an empty directory.\n",
            "fatal: destination path 'xyz_file_manager' already exists and is not an empty directory.\n"
          ]
        }
      ],
      "source": [
        "!git clone https://github.com/jcandane/CellList\n",
        "!git clone https://github.com/jcandane/xyz_file_manager"
      ]
    },
    {
      "cell_type": "code",
      "source": [
        "import numpy as np\n",
        "import matplotlib.pyplot as plt\n",
        "import time\n",
        "from CellList.CellList import Cell_List\n",
        "from xyz_file_manager.xyz_manager import xyz_reader\n",
        "\n",
        "np.set_printoptions(precision=4, linewidth=200, threshold=2000, suppress=True)\n",
        "\n",
        "def get_router(l):\n",
        "    router  = np.triu( np.arange(0,l,1)[None,:] + np.cumsum( np.roll(np.flip(np.arange(0,l,1)), 1))[:,None] )\n",
        "    router -= (np.eye(l, dtype=np.int64) - 1) * router.T\n",
        "    return router\n",
        "\n",
        "\n",
        "def celllist(R_ix, cube_size, boxboxcuttoff=1.5):\n",
        "    \"\"\"\n",
        "    GIVEN:  R_ix (Cartesian Positions)\n",
        "            cube_size (Cell List Box size)\n",
        "            **boxboxcuttoff (cutoff for Box Verlet List in units of `cube_size`)\n",
        "    GET:    IJ (Box Pair-Neighbors)\n",
        "            ind (indices of atoms sorted by which boxes they belong to)\n",
        "            sor (sorted array, how to slice the indice array to get members of a box)\n",
        "    \"\"\"\n",
        "\n",
        "    R_ix_int  = ( R_ix/cube_size ).astype(int)\n",
        "    lims      = 1 + np.amax( R_ix_int, axis=0 ) - np.amin( R_ix_int, axis=0 )\n",
        "    boxes     = np.arange(0, np.prod(lims), 1, dtype=int).reshape((lims[0],lims[1],lims[2]))\n",
        "\n",
        "    ### get indices of \n",
        "    box = boxes[R_ix_int[:,0], R_ix_int[:,1], R_ix_int[:,2]] ## get box for each atom\n",
        "    ind = np.argsort(box) ## find indices beloning to a box\n",
        "    sor = np.append([0], np.where( np.diff( box[ind] ) >= 1 )[0] ) ### find where boxes end, i.e. box[ind] = np.sort( box ) !!! >=   ### if this is greater than 1 (not equal to get rid of box??)\n",
        "    sor = np.append(sor, len(box)) ## !!\n",
        "\n",
        "    ### get Box center coordinates\n",
        "    x_  = np.arange(0, lims[0], 1, dtype=int)\n",
        "    y_  = np.arange(0, lims[1], 1, dtype=int)\n",
        "    z_  = np.arange(0, lims[2], 1, dtype=int)\n",
        "    xyz = np.array(np.meshgrid(x_, y_, z_))\n",
        "\n",
        "    ### Box Verlet List\n",
        "    R_Bx  = (xyz.swapaxes(0,3)).reshape((xyz.size//xyz.shape[0] , xyz.shape[0]), order=\"F\")\n",
        "    Boxdistances = np.linalg.norm( R_Bx[None, :,:] -  R_Bx[:,None,:] , axis=2)\n",
        "    IJ = np.asarray( np.where( np.logical_and( Boxdistances >= 0, Boxdistances < 1.5) ) ).T\n",
        "\n",
        "    return IJ, ind, sor\n",
        "\n"
      ],
      "metadata": {
        "id": "ZUI6Drdv6hL1"
      },
      "execution_count": 2,
      "outputs": []
    },
    {
      "cell_type": "code",
      "source": [
        "Z, R_ix = xyz_reader(\"Ar_1000.xyz\") ## R_ix [Å]\n",
        "\n",
        "IJ, indexes, sorted = celllist(R_ix, 55) ## box-size in [Å]\n",
        "\n",
        "print(\"Number of Boxes: \" + str(sorted.shape[0] - 1))\n",
        "print(\"Number of Box-Box Interactions: \" + str(IJ.size//2) )"
      ],
      "metadata": {
        "id": "1_uT4kJh61s-",
        "colab": {
          "base_uri": "https://localhost:8080/"
        },
        "outputId": "e6206f6f-d595-4159-b430-a0f25b362b47"
      },
      "execution_count": 3,
      "outputs": [
        {
          "output_type": "stream",
          "name": "stdout",
          "text": [
            "Number of Boxes: 1\n",
            "Number of Box-Box Interactions: 1\n"
          ]
        }
      ]
    },
    {
      "cell_type": "code",
      "source": [
        "Z, R_ix = xyz_reader(\"Ar_1000.xyz\") ## R_ix [Å]\n",
        "\n",
        "IJ, indexes, sorted = celllist(R_ix, 55) ## box-size in [Å]\n",
        "\n",
        "print(\"Number of Boxes: \" + str(sorted.shape[0]))\n",
        "print(\"Number of Box-Box Interactions: \" + str(IJ.shape[0]) )\n",
        "\n",
        "print( len(R_ix) )\n",
        "print( len(indexes) )\n",
        "#IJ\n",
        "print(sorted)\n",
        "\n",
        "\n",
        "print(\"==========\")\n",
        "R_ix_int  = ( R_ix/1000 ).astype(int)\n",
        "lims      = 1 + np.amax( R_ix_int, axis=0 ) - np.amin( R_ix_int, axis=0 )\n",
        "boxes     = np.arange(0, np.prod(lims), 1, dtype=int).reshape((lims[0],lims[1],lims[2]))\n",
        "\n",
        "print( boxes.size )\n",
        "\n",
        "box = boxes[R_ix_int[:,0], R_ix_int[:,1], R_ix_int[:,2]] ## get box for each atom\n",
        "\n",
        "print( np.allclose( box, np.zeros(len(R_ix), dtype=np.int64) ) ) ## all atoms belong to this box\n",
        "\n",
        "ind = np.argsort(box) ## find indices beloning to a box\n",
        "sor = np.append([0], np.where( np.diff( box[ind] ) >= 1 )[0] )\n",
        "print( sor ) \n",
        "\n",
        "### I_i   = indexes[ sorted[I]:sorted[I+1] ] gets members-in-a-box location\n",
        "sor = np.append(sor, len(box))\n",
        "print(sor)\n",
        "\n",
        "\n",
        "### get Box center coordinates\n",
        "x_  = np.arange(0, lims[0], 1, dtype=int)\n",
        "y_  = np.arange(0, lims[1], 1, dtype=int)\n",
        "z_  = np.arange(0, lims[2], 1, dtype=int)\n",
        "xyz = np.array(np.meshgrid(x_, y_, z_))\n",
        "\n",
        "### Box Verlet List\n",
        "R_Bx  = (xyz.swapaxes(0,3)).reshape((xyz.size//xyz.shape[0] , xyz.shape[0]), order=\"F\")\n",
        "print( R_Bx )\n",
        "Boxdistances = np.linalg.norm( R_Bx[None,:,:] -  R_Bx[:,None,:] , axis=2)\n",
        "print( Boxdistances )\n",
        "\n",
        "II, JJ = np.where( np.logical_and(( Boxdistances ) >= 0, ( Boxdistances ) < 1.5) )\n",
        "IJ = np.asarray([II, JJ]).T\n",
        "IJ.size/2"
      ],
      "metadata": {
        "colab": {
          "base_uri": "https://localhost:8080/"
        },
        "id": "EHfGrmHqdw-y",
        "outputId": "398716dd-c9f1-4a15-906e-78a0224ab097"
      },
      "execution_count": 4,
      "outputs": [
        {
          "output_type": "stream",
          "name": "stdout",
          "text": [
            "Number of Boxes: 2\n",
            "Number of Box-Box Interactions: 1\n",
            "4631\n",
            "4631\n",
            "[   0 4631]\n",
            "==========\n",
            "1\n",
            "True\n",
            "[0]\n",
            "[   0 4631]\n",
            "[[0 0 0]]\n",
            "[[0.]]\n"
          ]
        },
        {
          "output_type": "execute_result",
          "data": {
            "text/plain": [
              "1.0"
            ]
          },
          "metadata": {},
          "execution_count": 4
        }
      ]
    },
    {
      "cell_type": "markdown",
      "source": [
        "## Tabulated Potential"
      ],
      "metadata": {
        "id": "6J58QG718OqZ"
      }
    },
    {
      "cell_type": "code",
      "source": [
        "#### !!! We have to deal with 3 spatial units: Å (Ångström), a0 (Bohr), & u (tabulated units) !!!\n",
        "## https://simonensemble.github.io/PorousMaterials.jl/dev/force_field/\n",
        "\n",
        "\n",
        "åCu = 100      # å/u  ##\n",
        "åCÅ = 1.889727  # å/Å\n",
        "ÅCu = åCu / åCÅ # Å/u\n",
        "\n",
        "\n",
        "## http://www.sklogwiki.org/SklogWiki/index.php/Argon\n",
        "σ = 6.42507 ## å, in bohr xor 0.34 nm [Rahman 1964] \n",
        "#ε = 3.80e-4  ## 120 K  [Rahman 1964]\n",
        "ε = np.array([3.80e-4, 5.00e-4, 3.00e-4]) ## np.linspace(1e-6, 1e-4, 100)\n",
        "\n",
        "Z_consdier = np.array([\"Ar\", \"Ar*\"]) ## ordered by unary index, e.g. 0->\"Ar\", 1->\"Ar*\"\n",
        "u      = 0.01 ## å\n",
        "R_in   = 2.0\n",
        "R_out  = 180.0\n",
        "\n",
        "### get pair-types\n",
        "router = get_router(len(Z_consdier))\n",
        "\n",
        "### domain in tabulated units\n",
        "xi     = np.arange( 0.0,  R_in, u)\n",
        "x      = np.arange(R_in, R_out, u) ### these are in Å, units, R_ix / u\n",
        "xx     = np.concatenate((xi, x))\n",
        "\n",
        "### calculate potential in tabulated units\n",
        "LJE_Ar  =  4*np.einsum(\"a, x -> ax\", ε, ((σ/x)**12 - (σ/x)**6))\n",
        "LJf_Ar  = 24*np.einsum(\"a, x -> ax\", ε, (σ**6)*(2*σ**6/(x**13) - 1/(x**7)))\n",
        "LJE_Ari = np.zeros( (LJE_Ar.shape[0], xi.shape[0]) ) ## 0-part close to atomic-core\n",
        "LJf_Ari = np.zeros( (LJf_Ar.shape[0], xi.shape[0]) ) ## 0-part close to atomic-core\n",
        "\n",
        "### package+up\n",
        "LJE_Ar = np.concatenate((LJE_Ari, LJE_Ar), axis=1)\n",
        "LJf_Ar = np.concatenate((LJf_Ari, LJf_Ar), axis=1)\n",
        "E_nAR = np.asarray([LJE_Ar, LJf_Ar])\n",
        "\n",
        "\n",
        "\n",
        "\n",
        "\n",
        "\n",
        "def LJ_tabulated(A, u=0.001):\n",
        "\n",
        "    np.unique(A)\n",
        "    pairtype = None\n",
        "\n",
        "    return E_nAR, u, pairtype\n",
        "\n",
        "np.unique(Z)\n",
        "\n",
        "\n",
        "import matplotlib.pyplot as plt\n",
        "\n",
        "plt.plot(xx,E_nAR[0,0])\n",
        "plt.plot(xx,E_nAR[0,1])\n",
        "plt.xlim([6,13])\n",
        "plt.ylim([-0.0006,0.0002])\n",
        "plt.show()\n",
        "\n",
        "print(E_nAR[0,1,1500]*(4100)**2)"
      ],
      "metadata": {
        "colab": {
          "base_uri": "https://localhost:8080/",
          "height": 286
        },
        "id": "8I4DHKnj8JrV",
        "outputId": "82217fad-8a35-4a6d-ea91-9cb93665ef97"
      },
      "execution_count": 5,
      "outputs": [
        {
          "output_type": "display_data",
          "data": {
            "text/plain": [
              "<Figure size 432x288 with 1 Axes>"
            ],
            "image/png": "[encoded data removed]"
          },
          "metadata": {
            "needs_background": "light"
          }
        },
        {
          "output_type": "stream",
          "name": "stdout",
          "text": [
            "-206.3605800791076\n"
          ]
        }
      ]
    },
    {
      "cell_type": "markdown",
      "source": [
        "## Box-Box Interaction"
      ],
      "metadata": {
        "id": "z1mc717V8U-w"
      }
    },
    {
      "cell_type": "code",
      "source": [
        "def calcBOXBOX(C_ix, AT_i,    IJ, indexes, sorted,     E_nAR, u, router):\n",
        "    \"\"\"\n",
        "    GIVEN:  Atom Character;   R_ix (positions), AT_i (Unary Atom-Types)\n",
        "            Box Neighborhood; IJ (Box Pairs), indexes (over all atoms), sorted (over all boxes)\n",
        "            Potential;  E_nAR (Potential; n (derivative), A (pair-type), and R (Radial distance))\n",
        "                        u (unit of potential vs Bohr)\n",
        "                        router (router for pair-wise atom types)\n",
        "    GET:    E (energy), f_ix (force), and g_r (pair-correlation)\n",
        "    \"\"\"\n",
        "\n",
        "    R_ix  = C_ix * åCu #/u ## convert R_ix into tabulated units\n",
        "    E     = 0.\n",
        "    f_ix  = np.zeros(R_ix.shape)\n",
        "    g_r   = np.zeros(E_nAR[0].shape)\n",
        "    for i in range(len(IJ)):\n",
        "        I, J  = IJ[i]\n",
        "        I_i   = indexes[ sorted[I]:sorted[I+1] ] ## atom indices belonging to box I\n",
        "        J_j   = indexes[ sorted[J]:sorted[J+1] ] ## atom indices belonging to box J\n",
        "\n",
        "        ## displacement/distance calculation\n",
        "        R_ijx    = R_ix[ I_i, None, : ] - R_ix[ None, J_j, : ]\n",
        "        distance = np.linalg.norm(R_ijx, axis=2)\n",
        "        R_ijx   *= 1/(distance[:,:,None] + 1e-10)\n",
        "        N, dx    = distance.astype(int), distance-distance.astype(int)\n",
        "\n",
        "        ## get pair-atom-types from unary-atom-types\n",
        "        AT = router[ np.outer(AT_i[I_i], np.ones(len(J_j), dtype=int)) , np.outer(np.ones(len(I_i), dtype=int), AT_i[J_j]) ]\n",
        "\n",
        "        ## save pair-correlation, pair-energy, & pair-forces\n",
        "        g_r[AT, N] += 1\n",
        "        E          += np.sum( E_nAR[ 0, AT, N ] - (E_nAR[ 1, AT, N ]/åCu) * dx )/2 ### use instead analytic derivative?? E_nAR[ 1, AT, N ]??\n",
        "        #E          += np.sum(E_nAR[ 0, AT, N ] + (E_nAR[ 0, AT, N+1 ] - E_nAR[ 0, AT, N ] ) * dx)/2 ### use instead analytic derivative?? E_nAR[ 1, AT, N ]??\n",
        "        f_ijx       =  (E_nAR[ 1, AT, N ] + (E_nAR[ 1, AT, N+1 ] - E_nAR[ 1, AT, N ] ) * dx)[:,:,None] * R_ijx\n",
        "        f_ix[I_i]  += np.sum( f_ijx, axis=1)\n",
        "        f_ix[J_j]  -= np.sum( f_ijx, axis=0)\n",
        "\n",
        "    return E, f_ix, g_r \n",
        "\n",
        "start = time.time()\n",
        "\n",
        "AT_i = np.zeros(Z.shape, dtype=int)\n",
        "\n",
        "E, f_ix, g_r = calcBOXBOX(R_ix * åCÅ, AT_i,    IJ, indexes, sorted,     E_nAR, u, router)\n",
        "\n",
        "print(\"Energy    = %4.12f a.u.\" %E)\n",
        "print(\"net force = %4.12f a.u.\" %(np.sum(f_ix)))\n",
        "print(\"timer     = %4.6f s\" % (time.time()-start))"
      ],
      "metadata": {
        "colab": {
          "base_uri": "https://localhost:8080/"
        },
        "id": "If03OIyB8Wil",
        "outputId": "717f00ef-d776-4055-8eee-fd156fd6abf6"
      },
      "execution_count": 6,
      "outputs": [
        {
          "output_type": "stream",
          "name": "stdout",
          "text": [
            "Energy    = -13.306379178171 a.u.\n",
            "net force = 0.000000000000 a.u.\n",
            "timer     = 7.577342 s\n"
          ]
        }
      ]
    },
    {
      "cell_type": "markdown",
      "source": [
        "### Actual Energy"
      ],
      "metadata": {
        "id": "JsOXgEOJjSbE"
      }
    },
    {
      "cell_type": "code",
      "source": [
        "#np.sum( E_nAR[ 0, 0, np.linalg.norm( R_ix[ :, None, : ]/u - R_ix[ None, :, : ]/u , axis=2).astype(np.int64)] )/2\n",
        "#np.triu(np.linalg.norm( R_ix[ :, None, : ] - R_ix[ None, :, : ], axis=2), 1)\n",
        "#### so R_ix is in Å\n",
        "\n",
        "x = np.linalg.norm( R_ix[ :, None, : ] - R_ix[ None, :, : ] , axis=2) * åCÅ ## Å --> å \n",
        "x = x[np.triu_indices(len(x), k = 1)]\n",
        "print(\"Min Distance Seperation:   %4.8f Bohr\" % (np.amin(x)))\n",
        "print(\"Max Distance Seperation: %4.8f Bohr\" % (np.amax(x)))\n",
        "\n",
        "E_tot = np.sum( 4*ε[0]*((σ/x)**12 - (σ/x)**6) )\n",
        "print(\"Full Pair-Wise Energy  : %4.8f a.u.\" %E_tot )\n",
        "\n",
        "x *= åCu ## get x in correct units...\n",
        "N, dx = x.astype(int), x-x.astype(int)\n",
        "print(np.sum( E_nAR[ 0, 0, N ] ) - E_tot)\n",
        "print(np.sum( E_nAR[ 0, 0, N ] + (E_nAR[ 0, 0, N+1 ] - E_nAR[ 0, 0, N ] ) * dx ) - E_tot)\n",
        "print(np.sum( E_nAR[ 0, 0, N ] + (-E_nAR[ 1, 0, N ]/åCu ) * dx ) - E_tot)\n",
        "\n",
        "print(\"Energy Difference (E_celllist-E_tot) : %4.12f a.u.\" %(E - E_tot))\n",
        "print(\"This energy difference matching the interpolation above!!\")"
      ],
      "metadata": {
        "id": "OBQG_6saRltH",
        "colab": {
          "base_uri": "https://localhost:8080/"
        },
        "outputId": "02367e10-bfe9-466f-d17c-49c092778023"
      },
      "execution_count": 7,
      "outputs": [
        {
          "output_type": "stream",
          "name": "stdout",
          "text": [
            "Min Distance Seperation:   7.02327101 Bohr\n",
            "Max Distance Seperation: 172.03430295 Bohr\n",
            "Full Pair-Wise Energy  : -13.30626627 a.u.\n",
            "0.0037495261734630247\n",
            "0.00023625213077416163\n",
            "-0.00011290696113164245\n",
            "Energy Difference (E_celllist-E_tot) : -0.000112906961 a.u.\n",
            "This energy difference matching the interpolation above!!\n"
          ]
        }
      ]
    },
    {
      "cell_type": "code",
      "source": [
        "print(E_nAR[ 0, 0, 1500+1 ] - E_nAR[ 0, 0, 1500 ] )\n",
        "E_nAR[ 1, 0, 1500 ] / åCu ## get in units"
      ],
      "metadata": {
        "colab": {
          "base_uri": "https://localhost:8080/"
        },
        "id": "5jW3isV1zI1M",
        "outputId": "141488de-8167-41c1-9d02-6b1526a2caa1"
      },
      "execution_count": 8,
      "outputs": [
        {
          "output_type": "stream",
          "name": "stdout",
          "text": [
            "3.7001841951257e-08\n"
          ]
        },
        {
          "output_type": "execute_result",
          "data": {
            "text/plain": [
              "-3.7087302002713626e-08"
            ]
          },
          "metadata": {},
          "execution_count": 8
        }
      ]
    },
    {
      "cell_type": "markdown",
      "source": [
        "# Dynamics ?"
      ],
      "metadata": {
        "id": "YJPVvhVqgfNx"
      }
    },
    {
      "cell_type": "code",
      "source": [
        ""
      ],
      "metadata": {
        "id": "yUcGqrsWgclB"
      },
      "execution_count": 8,
      "outputs": []
    },
    {
      "cell_type": "code",
      "source": [
        "Element_Names = { 'e':0,  0:'e' ,   'H':  1,  1:'H' ,  'He':  2,  2:'He',\n",
        "               'Li':  3,  3:'Li',  'Be':  4,  4:'Be',   'B':  5,  5:'B' ,   'C':  6,  6:'C' ,   'N':  7,  7:'N' ,   'O':  8,  8:'O' ,   'F':  9,  9:'F' ,  'Ne': 10, 10:'Ne', \n",
        "               'Na': 11, 11:'Na',  'Mg': 12, 12:'Mg',  'Al': 13, 13:'Al',  'Si': 14, 14:'Si',   'P': 15, 15:'P' ,   'S': 16, 16:'S' ,  'Cl': 17, 17:'Cl',  'Ar': 18, 18:'Ar',\n",
        "                'K': 19, 19:'K' ,  'Ca': 20, 20:'Ca',  'Sc': 21, 21:'Sc',  'Ti': 22, 22:'Ti',   'V': 23, 23:'V' ,  'Cr': 24, 24:'Cr',  'Mn': 25, 25:'Mn',  'Fe': 26, 26:'Fe',  'Co': 27, 27:'Co',  'Ni': 28, 28:'Ni',  'Cu': 29, 29:'Cu',  'Zn': 30, 30:'Zn',  'Ga': 31, 31:'Ga',  'Ge': 32, 32:'Ge',  'As': 33, 33:'As',  'Se': 34, 34:'Se',  'Br': 35, 35:'Br',  'Kr': 36, 36:'Kr', \n",
        "               'Rb': 37, 37:'Rb',  'Sr': 38, 38:'Sr',   'Y': 39, 39:'Y' ,  'Zr': 40, 40:'Zr',  'Nb': 41, 41:'Nb',  'Mo': 42, 42:'Mo',  'Tc': 43, 43:'Tc',  'Ru': 44, 44:'Ru',  'Rh': 45, 45:'Rh',  'Pd': 46, 46:'Pd',  'Ag': 47, 47:'Ag',  'Cd': 48, 48:'Cd',  'In': 49, 49:'In',  'Sn': 50, 50:'Sn',  'Sb': 51, 51:'Sb',  'Te': 52, 52:'Te',   'I': 53, 53:'I' ,  'Xe': 54, 54:'Xe',\n",
        "               'Cs': 55, 55:'Cs',  'Ba': 56, 56:'Ba',  'La': 57, 57:'La',  'Ce': 58, 58:'Ce',  'Pr': 59, 59:'Pr',  'Nd': 60, 60:'Nd',  'Pm': 61, 61:'Pm',  'Sm': 62, 62:'Sm',  'Eu': 63, 63:'Eu',  'Gd': 64, 64:'Gd',  'Tb': 65, 65:'Tb',  'Dy': 66, 66:'Dy',  'Ho': 67, 67:'Ho',  'Er': 68, 68:'Er',  'Tm': 69, 69:'Tm',  'Yb': 70, 70:'Yb',  'Lu': 71, 71:'Lu',  'Hf': 72, 72:'Hf',  'Ta': 73, 73:'Ta',   'W': 74, 74:'W' ,  'Re': 75, 75:'Re',  'Os': 76, 76:'Os',  'Ir': 77, 77:'Ir',  'Pt': 78, 78:'Pt',  'Au': 79, 79:'Au', 'Hg': 80, 80:'Hg',  'Tl': 81, 81:'Tl',  'Pb': 82, 82:'Pb',  'Bi': 83, 83:'Bi',  'Po': 84, 84:'Po', 'At': 85, 85:'At', 'Rn': 86, 86:'Rn', \n",
        "               'Fr': 87, 87:'Fr',  'Ra': 88, 88:'Ra',  'Ac': 89, 89:'Ac',  'Th': 90, 90:'Th',  'Pa': 91, 91:'Pa',   'U': 92, 92:'U' ,  'Np': 93, 93:'Np',  'Pu': 94, 94:'Pu',  'Am': 95, 95:'Am',  'Cm': 96, 96:'Cm',  'Bk': 97, 97:'Bk',  'Cf': 98, 98:'Cf',  'Es': 99, 99:'Es',  'Fm':100,100:'Fm',  'Md':101,101:'Md',  'No':102,102:'No',  'Lr':103,103:'Lr',  'Rf':104,104:'Rf',  'Db':105,105:'Db',  'Sg':106,106:'Sg',  'Bh':107,107:'Bh',  'Hs':108,108:'Hs',  'Mt':109,109:'Mt',  'Ds':110,110:'Ds',  'Rg':111,111:'Rg', 'Cn':112,112:'Cn',  'Nh':113,113:'Nh',  'Fl':114,114:'Fl',  'Mc':115,115:'Mc',  'Lv':116,116:'Lv', 'Ts':117,117:'Ts', 'Og':118,118:'Og'}\n",
        "\n",
        "nums = np.arange(1,119,1, dtype=int)\n",
        "\n",
        "for i in range(len(nums)):\n",
        "    #print(Element_Names[i] + \"\\t\")\n",
        "    None"
      ],
      "metadata": {
        "id": "5_DfB7hg89Nr"
      },
      "execution_count": 9,
      "outputs": []
    },
    {
      "cell_type": "code",
      "source": [
        "f = \"SCHWERDTFEGER2018.txt\"\n",
        "fp = open(f, 'r')\n",
        "\n",
        "lines = fp.readlines()\n",
        "asd = []\n",
        "qwe = []\n",
        "for i in lines: #range(len(lines)):\n",
        "    if (i)[0] != \"[\":\n",
        "        if len(i.split()) > 2:\n",
        "            if i.split()[3] == \"recommended\":\n",
        "                qwe.append(i)\n",
        "            else:\n",
        "                asd.append(i.split()[1])\n",
        "        else:\n",
        "            continue\n",
        "\n",
        "len(asd)"
      ],
      "metadata": {
        "colab": {
          "base_uri": "https://localhost:8080/"
        },
        "id": "E-T38_kGIcxr",
        "outputId": "ce156149-cd69-4028-c884-074fc4a6a97f"
      },
      "execution_count": 11,
      "outputs": [
        {
          "output_type": "execute_result",
          "data": {
            "text/plain": [
              "127"
            ]
          },
          "metadata": {},
          "execution_count": 11
        }
      ]
    }
  ]
}