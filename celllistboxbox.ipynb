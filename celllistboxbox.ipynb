{
  "nbformat": 4,
  "nbformat_minor": 0,
  "metadata": {
    "colab": {
      "name": "celllistboxbox.ipynb",
      "provenance": [],
      "authorship_tag": "ABX9TyMoaXaVeRP91Rhbej+nhwws",
      "include_colab_link": true
    },
    "kernelspec": {
      "name": "python3",
      "display_name": "Python 3"
    },
    "language_info": {
      "name": "python"
    }
  },
  "cells": [
    {
      "cell_type": "markdown",
      "metadata": {
        "id": "view-in-github",
        "colab_type": "text"
      },
      "source": [
        "<a href=\"https://colab.research.google.com/github/jcandane/CellList/blob/main/celllistboxbox.ipynb\" target=\"_parent\"><img src=\"https://colab.research.google.com/assets/colab-badge.svg\" alt=\"Open In Colab\"/></a>"
      ]
    },
    {
      "cell_type": "code",
      "execution_count": 1,
      "metadata": {
        "colab": {
          "base_uri": "https://localhost:8080/"
        },
        "id": "vlY69AfH5lzh",
        "outputId": "6f29a9e5-dc36-45af-e633-439c09fffee8"
      },
      "outputs": [
        {
          "output_type": "stream",
          "name": "stdout",
          "text": [
            "Cloning into 'CellList'...\n",
            "remote: Enumerating objects: 12, done.\u001b[K\n",
            "remote: Counting objects: 100% (12/12), done.\u001b[K\n",
            "remote: Compressing objects: 100% (11/11), done.\u001b[K\n",
            "remote: Total 12 (delta 1), reused 0 (delta 0), pack-reused 0\u001b[K\n",
            "Unpacking objects: 100% (12/12), done.\n",
            "Cloning into 'xyz_file_manager'...\n",
            "remote: Enumerating objects: 16, done.\u001b[K\n",
            "remote: Counting objects: 100% (16/16), done.\u001b[K\n",
            "remote: Compressing objects: 100% (15/15), done.\u001b[K\n",
            "remote: Total 16 (delta 6), reused 0 (delta 0), pack-reused 0\u001b[K\n",
            "Unpacking objects: 100% (16/16), done.\n"
          ]
        }
      ],
      "source": [
        "!git clone https://github.com/jcandane/CellList\n",
        "!git clone https://github.com/jcandane/xyz_file_manager"
      ]
    },
    {
      "cell_type": "code",
      "source": [
        "import numpy as np\n",
        "import matplotlib.pyplot as plt\n",
        "import time\n",
        "from CellList.CellList import Cell_List\n",
        "from xyz_file_manager.xyz_manager import xyz_reader\n",
        "\n",
        "np.set_printoptions(precision=4, linewidth=200, threshold=2000, suppress=True)\n",
        "\n",
        "def get_router(l):\n",
        "    router  = np.triu( np.arange(0,l,1)[None,:] + np.cumsum( np.roll(np.flip(np.arange(0,l,1)), 1))[:,None] )\n",
        "    router -= (np.eye(l, dtype=np.int64) - 1) * router.T\n",
        "    return router"
      ],
      "metadata": {
        "id": "ZUI6Drdv6hL1"
      },
      "execution_count": 2,
      "outputs": []
    },
    {
      "cell_type": "code",
      "source": [
        "Z, R_ix = xyz_reader(\"Ar_1000.xyz\")\n",
        "\n",
        "IJ, indexes, sorted = Cell_List(R_ix, 14)"
      ],
      "metadata": {
        "id": "1_uT4kJh61s-"
      },
      "execution_count": 4,
      "outputs": []
    },
    {
      "cell_type": "code",
      "source": [
        "IJ.shape"
      ],
      "metadata": {
        "colab": {
          "base_uri": "https://localhost:8080/"
        },
        "id": "GbSJMfr57lHo",
        "outputId": "3235b5f8-edda-4d43-a6c6-fad4b1a6c8bf"
      },
      "execution_count": 5,
      "outputs": [
        {
          "output_type": "execute_result",
          "data": {
            "text/plain": [
              "(360, 2)"
            ]
          },
          "metadata": {},
          "execution_count": 5
        }
      ]
    },
    {
      "cell_type": "markdown",
      "source": [
        "## Tabulated Potential"
      ],
      "metadata": {
        "id": "6J58QG718OqZ"
      }
    },
    {
      "cell_type": "code",
      "source": [
        "#### !!! We have to deal with 3 spatial units: Å (Ångström), a0 (Bohr), & u (tabulated units) !!!\n",
        "## https://simonensemble.github.io/PorousMaterials.jl/dev/force_field/\n",
        "\n",
        "## http://www.sklogwiki.org/SklogWiki/index.php/Argon\n",
        "σ = 6.42507 ## in bohr xor 0.34 nm [Rahman 1964] \n",
        "#ε = 3.80e-4  ## 120 K  [Rahman 1964]\n",
        "ε = np.array([3.80e-4, 5.00e-4, 3.00e-4]) ## np.linspace(1e-6, 1e-4, 100)\n",
        "\n",
        "u      = 0.001 # Å\n",
        "xi     = np.arange(0., 2.0, u)\n",
        "x      = np.arange(2.0, 20, u) ### these are in Å, units, R_ix / u\n",
        "LJE_Ar =  4*np.einsum(\"a, x -> ax\", ε, ((σ/x)**12 - (σ/x)**6))\n",
        "LJf_Ar = 24*np.einsum(\"a, x -> ax\", ε, (σ**6)*(2*σ**6/(x**13) - 1/(x**7)))\n",
        "\n",
        "LJE_Ari = np.zeros( (LJE_Ar.shape[0], xi.shape[0]) )\n",
        "LJf_Ari = np.zeros( (LJf_Ar.shape[0], xi.shape[0]) )\n",
        "\n",
        "LJE_Ar = np.concatenate((LJE_Ari, LJE_Ar), axis=1)\n",
        "LJf_Ar = np.concatenate((LJf_Ari, LJf_Ar), axis=1)\n",
        "E_nAR = np.asarray([LJE_Ar, LJf_Ar])\n",
        "\n",
        "\n",
        "\n",
        "router = get_router(2)\n",
        "print( router )\n",
        "\n",
        "def LJ_tabulated(A, u=0.001):\n",
        "\n",
        "    np.unique(A)\n",
        "    pairtype = None\n",
        "\n",
        "    return E_nAR, u, pairtype\n",
        "\n",
        "np.unique(Z)"
      ],
      "metadata": {
        "colab": {
          "base_uri": "https://localhost:8080/"
        },
        "id": "8I4DHKnj8JrV",
        "outputId": "4f71ced1-6ef0-46a0-9d6e-592c111ad3fe"
      },
      "execution_count": 6,
      "outputs": [
        {
          "output_type": "stream",
          "name": "stdout",
          "text": [
            "[[0 1]\n",
            " [1 2]]\n"
          ]
        },
        {
          "output_type": "execute_result",
          "data": {
            "text/plain": [
              "array(['Ar'], dtype='<U32')"
            ]
          },
          "metadata": {},
          "execution_count": 6
        }
      ]
    },
    {
      "cell_type": "code",
      "source": [
        "LJE_Ar =  4*np.einsum(\"a, x -> ax\", ε, ((σ/x)**12 - (σ/x)**6))\n",
        "LJE_Ari = np.zeros( (LJE_Ar.shape[0], xi.shape[0]) )\n",
        "\n",
        "np.concatenate((LJE_Ari, LJE_Ar), axis=1)[:,2500]\n",
        "\n",
        "#LJE_Ari.shape\n",
        "E_nAR.shape"
      ],
      "metadata": {
        "colab": {
          "base_uri": "https://localhost:8080/"
        },
        "id": "DvpRlmK60Hjp",
        "outputId": "dea339c6-63d5-41da-bfa1-6cdbb60c644c"
      },
      "execution_count": 7,
      "outputs": [
        {
          "output_type": "execute_result",
          "data": {
            "text/plain": [
              "(2, 3, 20000)"
            ]
          },
          "metadata": {},
          "execution_count": 7
        }
      ]
    },
    {
      "cell_type": "markdown",
      "source": [
        "## Box-Box Interaction"
      ],
      "metadata": {
        "id": "z1mc717V8U-w"
      }
    },
    {
      "cell_type": "code",
      "source": [
        "def calcBOXBOX(R_ix, AT_i,    IJ, indexes, sorted,     E_nAR, u, router):\n",
        "    \"\"\"\n",
        "    GIVEN:  Atom Character;   R_ix (positions), AT_i (Unary Atom-Types)\n",
        "            Box Neighborhood; IJ (Box Pairs), indexes (over all atoms), sorted (over all boxes)\n",
        "            Potential;  E_nAR (Potential; n (derivative), A (pair-type), and R (Radial distance))\n",
        "                        u (unit of potential vs Bohr)\n",
        "                        router ()\n",
        "    GET:    E (energy), f_ix (force), and g_r (pair-correlation)\n",
        "    \"\"\"\n",
        "\n",
        "    R_ix *= u ## convert R_ix into tabulated units\n",
        "    E     = 0.\n",
        "    f_ix  = np.zeros(R_ix.shape)\n",
        "    g_r   = np.zeros(E_nAR[0].shape)\n",
        "    for i in range(len(IJ)):\n",
        "        I, J  = IJ[i]\n",
        "        I_i   = indexes[ sorted[I]:sorted[I+1] ] ## atom indices belonging to box I\n",
        "        J_j   = indexes[ sorted[J]:sorted[J+1] ] ## atom indices belonging to box J\n",
        "\n",
        "        ## displacement/distance calculation\n",
        "        R_ijx    = R_ix[ I_i, None, : ] - R_ix[ None, J_j, : ]\n",
        "        distance = np.linalg.norm(R_ijx, axis=2)\n",
        "        R_ijx   *= 1/(distance[:,:,None] + 1e-10)\n",
        "        N, dx    = distance.astype(int), distance-distance.astype(int)\n",
        "\n",
        "        ## get pair-atom-types from unary-atom-types\n",
        "        AT = router[ np.outer(AT_i[I_i], np.ones(len(J_j), dtype=int)) , np.outer(np.ones(len(I_i), dtype=int), AT_i[J_j]) ]\n",
        "\n",
        "        ## save pair-correlation, pair-energy, & pair-forces\n",
        "        g_r[AT, N] += 1\n",
        "        E          += np.sum(E_nAR[ 0, AT, N ] + (E_nAR[ 0, AT, N+1 ] - E_nAR[ 0, AT, N ] ) * dx)\n",
        "        f_ijx       =  (E_nAR[ 1, AT, N ] + (E_nAR[ 1, AT, N+1 ] - E_nAR[ 1, AT, N ] ) * dx)[:,:,None] * R_ijx\n",
        "        f_ix[I_i]  += np.sum( f_ijx, axis=1)\n",
        "        f_ix[J_j]  -= np.sum( f_ijx, axis=0)\n",
        "\n",
        "    return E, f_ix, g_r \n",
        "\n",
        "start = time.time()\n",
        "\n",
        "AT_i = np.zeros(Z.shape, dtype=int)\n",
        "\n",
        "E, f_ix, g_r = calcBOXBOX(R_ix, AT_i,    IJ, indexes, sorted,     E_nAR, u, router)\n",
        "\n",
        "print(\"net force = %4.12f a.u.\" %(np.sum(f_ix)))\n",
        "print(\"timer     = %4.6f s\" % (time.time()-start))"
      ],
      "metadata": {
        "colab": {
          "base_uri": "https://localhost:8080/"
        },
        "id": "If03OIyB8Wil",
        "outputId": "12e1e203-bd49-40dd-fb70-dd56f3f79686"
      },
      "execution_count": 20,
      "outputs": [
        {
          "output_type": "stream",
          "name": "stdout",
          "text": [
            "net force = 0.000000000000 a.u.\n",
            "timer     = 0.371582 s\n"
          ]
        }
      ]
    },
    {
      "cell_type": "code",
      "source": [
        ""
      ],
      "metadata": {
        "id": "OBQG_6saRltH"
      },
      "execution_count": 9,
      "outputs": []
    },
    {
      "cell_type": "code",
      "source": [
        "Element_Names = { 'e':0,  0:'e' ,   'H':  1,  1:'H' ,  'He':  2,  2:'He',\n",
        "               'Li':  3,  3:'Li',  'Be':  4,  4:'Be',   'B':  5,  5:'B' ,   'C':  6,  6:'C' ,   'N':  7,  7:'N' ,   'O':  8,  8:'O' ,   'F':  9,  9:'F' ,  'Ne': 10, 10:'Ne', \n",
        "               'Na': 11, 11:'Na',  'Mg': 12, 12:'Mg',  'Al': 13, 13:'Al',  'Si': 14, 14:'Si',   'P': 15, 15:'P' ,   'S': 16, 16:'S' ,  'Cl': 17, 17:'Cl',  'Ar': 18, 18:'Ar',\n",
        "                'K': 19, 19:'K' ,  'Ca': 20, 20:'Ca',  'Sc': 21, 21:'Sc',  'Ti': 22, 22:'Ti',   'V': 23, 23:'V' ,  'Cr': 24, 24:'Cr',  'Mn': 25, 25:'Mn',  'Fe': 26, 26:'Fe',  'Co': 27, 27:'Co',  'Ni': 28, 28:'Ni',  'Cu': 29, 29:'Cu',  'Zn': 30, 30:'Zn',  'Ga': 31, 31:'Ga',  'Ge': 32, 32:'Ge',  'As': 33, 33:'As',  'Se': 34, 34:'Se',  'Br': 35, 35:'Br',  'Kr': 36, 36:'Kr', \n",
        "               'Rb': 37, 37:'Rb',  'Sr': 38, 38:'Sr',   'Y': 39, 39:'Y' ,  'Zr': 40, 40:'Zr',  'Nb': 41, 41:'Nb',  'Mo': 42, 42:'Mo',  'Tc': 43, 43:'Tc',  'Ru': 44, 44:'Ru',  'Rh': 45, 45:'Rh',  'Pd': 46, 46:'Pd',  'Ag': 47, 47:'Ag',  'Cd': 48, 48:'Cd',  'In': 49, 49:'In',  'Sn': 50, 50:'Sn',  'Sb': 51, 51:'Sb',  'Te': 52, 52:'Te',   'I': 53, 53:'I' ,  'Xe': 54, 54:'Xe',\n",
        "               'Cs': 55, 55:'Cs',  'Ba': 56, 56:'Ba',  'La': 57, 57:'La',  'Ce': 58, 58:'Ce',  'Pr': 59, 59:'Pr',  'Nd': 60, 60:'Nd',  'Pm': 61, 61:'Pm',  'Sm': 62, 62:'Sm',  'Eu': 63, 63:'Eu',  'Gd': 64, 64:'Gd',  'Tb': 65, 65:'Tb',  'Dy': 66, 66:'Dy',  'Ho': 67, 67:'Ho',  'Er': 68, 68:'Er',  'Tm': 69, 69:'Tm',  'Yb': 70, 70:'Yb',  'Lu': 71, 71:'Lu',  'Hf': 72, 72:'Hf',  'Ta': 73, 73:'Ta',   'W': 74, 74:'W' ,  'Re': 75, 75:'Re',  'Os': 76, 76:'Os',  'Ir': 77, 77:'Ir',  'Pt': 78, 78:'Pt',  'Au': 79, 79:'Au', 'Hg': 80, 80:'Hg',  'Tl': 81, 81:'Tl',  'Pb': 82, 82:'Pb',  'Bi': 83, 83:'Bi',  'Po': 84, 84:'Po', 'At': 85, 85:'At', 'Rn': 86, 86:'Rn', \n",
        "               'Fr': 87, 87:'Fr',  'Ra': 88, 88:'Ra',  'Ac': 89, 89:'Ac',  'Th': 90, 90:'Th',  'Pa': 91, 91:'Pa',   'U': 92, 92:'U' ,  'Np': 93, 93:'Np',  'Pu': 94, 94:'Pu',  'Am': 95, 95:'Am',  'Cm': 96, 96:'Cm',  'Bk': 97, 97:'Bk',  'Cf': 98, 98:'Cf',  'Es': 99, 99:'Es',  'Fm':100,100:'Fm',  'Md':101,101:'Md',  'No':102,102:'No',  'Lr':103,103:'Lr',  'Rf':104,104:'Rf',  'Db':105,105:'Db',  'Sg':106,106:'Sg',  'Bh':107,107:'Bh',  'Hs':108,108:'Hs',  'Mt':109,109:'Mt',  'Ds':110,110:'Ds',  'Rg':111,111:'Rg', 'Cn':112,112:'Cn',  'Nh':113,113:'Nh',  'Fl':114,114:'Fl',  'Mc':115,115:'Mc',  'Lv':116,116:'Lv', 'Ts':117,117:'Ts', 'Og':118,118:'Og'}\n",
        "\n",
        "nums = np.arange(1,119,1, dtype=int)\n",
        "\n",
        "for i in range(len(nums)):\n",
        "    #print(Element_Names[i] + \"\\t\")\n",
        "    None"
      ],
      "metadata": {
        "id": "5_DfB7hg89Nr"
      },
      "execution_count": 9,
      "outputs": []
    },
    {
      "cell_type": "code",
      "source": [
        "f = \"SCHWERDTFEGER2018.txt\"\n",
        "fp = open(f, 'r')\n",
        "\n",
        "lines = fp.readlines()\n",
        "asd = []\n",
        "qwe = []\n",
        "for i in lines: #range(len(lines)):\n",
        "    if (i)[0] != \"[\":\n",
        "        if len(i.split()) > 2:\n",
        "            if i.split()[3] == \"recommended\":\n",
        "                qwe.append(i)\n",
        "            else:\n",
        "                asd.append(i.split()[1])\n",
        "        else:\n",
        "            continue\n",
        "\n",
        "len(asd)"
      ],
      "metadata": {
        "colab": {
          "base_uri": "https://localhost:8080/"
        },
        "id": "E-T38_kGIcxr",
        "outputId": "a7826083-426d-48c4-e8ea-581822a92c70"
      },
      "execution_count": 11,
      "outputs": [
        {
          "output_type": "execute_result",
          "data": {
            "text/plain": [
              "127"
            ]
          },
          "metadata": {},
          "execution_count": 11
        }
      ]
    },
    {
      "cell_type": "code",
      "source": [
        "qwe"
      ],
      "metadata": {
        "id": "nb20J5T6Jw3y"
      },
      "execution_count": null,
      "outputs": []
    },
    {
      "cell_type": "code",
      "source": [
        ""
      ],
      "metadata": {
        "id": "Aq_HCJdGL3KO"
      },
      "execution_count": null,
      "outputs": []
    }
  ]
}